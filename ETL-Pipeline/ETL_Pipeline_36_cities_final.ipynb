{
 "cells": [
  {
   "cell_type": "markdown",
   "metadata": {
    "id": "hZ1jn9kkkNP6"
   },
   "source": [
    "# ETL Pipeline (from calling APIs to loading it into MySQL on AWS RDS)"
   ]
  },
  {
   "cell_type": "markdown",
   "metadata": {
    "id": "uIILQPzQIZdT"
   },
   "source": [
    "## Load Dependencies"
   ]
  },
  {
   "cell_type": "code",
   "execution_count": null,
   "metadata": {
    "id": "rm2bgZbDIcol",
    "tags": []
   },
   "outputs": [],
   "source": [
    "import pandas as pd\n",
    "import requests\n",
    "#import marcus_keys # import your own passkey repository if available\n",
    "import json"
   ]
  },
  {
   "cell_type": "code",
   "execution_count": null,
   "metadata": {
    "colab": {
     "base_uri": "https://localhost:8080/"
    },
    "id": "ocsg3bOVQ2KN",
    "outputId": "73932f4f-8df8-4917-cc2e-f898f085e01a",
    "tags": []
   },
   "outputs": [],
   "source": [
    "pip install pymysql"
   ]
  },
  {
   "cell_type": "markdown",
   "metadata": {
    "id": "pxVEYHTmgJID"
   },
   "source": [
    "## Logging onto AWS RDS MySQL Instance"
   ]
  },
  {
   "cell_type": "code",
   "execution_count": null,
   "metadata": {
    "id": "SVKk624tf58K"
   },
   "outputs": [],
   "source": [
    "schema=\"jam_fp_db\" # here put your own databas name\n",
    "host=\"jam-project-2023-db.cjdcbdhnueky.eu-north-1.rds.amazonaws.com\" # here put your own aws host link\n",
    "user=\"mkadmin\" # your username\n",
    "password=marcus_keys.aws_rds_key your password\n",
    "port=3306\n",
    "con = f'mysql+pymysql://{user}:{password}@{host}:{port}/{schema}'"
   ]
  },
  {
   "cell_type": "markdown",
   "metadata": {
    "id": "UojEKJ3idkDr"
   },
   "source": [
    "# Loading Cities Data"
   ]
  },
  {
   "cell_type": "code",
   "execution_count": null,
   "metadata": {
    "id": "RS3xYzHRdcbQ"
   },
   "outputs": [],
   "source": [
    "url = \"https://raw.githubusercontent.com/MarcusK2010/End-to-end-ETL-ML-Tableau/main/Database-Tables/worldcities.csv\"\n",
    "worldcities_df = pd.read_csv(url)"
   ]
  },
  {
   "cell_type": "code",
   "execution_count": null,
   "metadata": {
    "id": "FKlx3AINbuEm"
   },
   "outputs": [],
   "source": [
    "worldcities_df.head()"
   ]
  },
  {
   "cell_type": "markdown",
   "metadata": {
    "id": "BdqP4957_S-R"
   },
   "source": [
    "#### List of selected Cities"
   ]
  },
  {
   "cell_type": "code",
   "execution_count": null,
   "metadata": {
    "id": "zdSfR6UK_S-S"
   },
   "outputs": [],
   "source": [
    "city_list = [\n",
    "    \"Toronto\", \"Mexico City\", \"São Paulo\", \"Buenos Aires\", \"Rio de Janeiro\",\n",
    "    \"Bogotá\", \"Lima\", \"London\", \"Paris\", \"Berlin\", \"Rome\", \"Madrid\", \"Sydney\", \"Melbourne\", \"Brisbane\", \"Perth\", \"Adelaide\",\n",
    "    \"Cairo\", \"Lagos\", \"Johannesburg\", \"Nairobi\", \"Casablanca\", \"Addis Ababa\", \"Dakar\", \"Accra\", \"Cape Town\",\n",
    "    \"Tokyo\", \"Mumbai\", \"Beijing\", \"Istanbul\", \"Bangkok\", \"Seoul\", \"Jakarta\", \"Karachi\", \"Riyadh\", \"Manila\"\n",
    "]"
   ]
  },
  {
   "cell_type": "markdown",
   "metadata": {
    "id": "_aFBaPO-i0O4"
   },
   "source": [
    "#### Get longitude and latitude for the cities in `city_list`"
   ]
  },
  {
   "cell_type": "code",
   "execution_count": null,
   "metadata": {
    "id": "-aP1_yupaee8"
   },
   "outputs": [],
   "source": [
    "city_country_dict = {\n",
    "    \"New York\": \"USA\",\n",
    "    \"Los Angeles\": \"USA\",\n",
    "    \"Toronto\": \"Canada\",\n",
    "    \"Mexico City\": \"Mexico\",\n",
    "    \"Chicago\": \"USA\",\n",
    "    \"São Paulo\": \"Brazil\",\n",
    "    \"Buenos Aires\": \"Argentina\",\n",
    "    \"Rio de Janeiro\": \"Brazil\",\n",
    "    \"Bogotá\": \"Colombia\",\n",
    "    \"Lima\": \"Peru\",\n",
    "    \"London\": \"United Kingdom\",\n",
    "    \"Paris\": \"France\",\n",
    "    \"Berlin\": \"Germany\",\n",
    "    \"Rome\": \"Italy\",\n",
    "    \"Madrid\": \"Spain\",\n",
    "    \"Sydney\": \"Australia\",\n",
    "    \"Melbourne\": \"Australia\",\n",
    "    \"Brisbane\": \"Australia\",\n",
    "    \"Perth\": \"Australia\",\n",
    "    \"Adelaide\": \"Australia\",\n",
    "    \"Cairo\": \"Egypt\",\n",
    "    \"Lagos\": \"Nigeria\",\n",
    "    \"Johannesburg\": \"South Africa\",\n",
    "    \"Nairobi\": \"Kenya\",\n",
    "    \"Casablanca\": \"Morocco\",\n",
    "    \"Addis Ababa\": \"Ethiopia\",\n",
    "    \"Dakar\": \"Senegal\",\n",
    "    \"Accra\": \"Ghana\",\n",
    "    \"Cape Town\": \"South Africa\",\n",
    "    \"Abidjan\": \"Ivory Coast\",\n",
    "    \"Tokyo\": \"Japan\",\n",
    "    \"Mumbai\": \"India\",\n",
    "    \"Beijing\": \"China\",\n",
    "    \"Istanbul\": \"Turkey\",\n",
    "    \"Bangkok\": \"Thailand\",\n",
    "    \"Seoul\": \"South Korea\",\n",
    "    \"Jakarta\": \"Indonesia\",\n",
    "    \"Karachi\": \"Pakistan\",\n",
    "    \"Riyadh\": \"Saudi Arabia\",\n",
    "    \"Manila\": \"Philippines\"\n",
    "}\n"
   ]
  },
  {
   "cell_type": "code",
   "execution_count": null,
   "metadata": {
    "id": "wLHH9eNWccgc"
   },
   "outputs": [],
   "source": [
    "city_country_df = pd.DataFrame(city_country_dict.items(), columns=['city', 'country'])"
   ]
  },
  {
   "cell_type": "code",
   "execution_count": null,
   "metadata": {
    "id": "UvxKbhNOdpxl"
   },
   "outputs": [],
   "source": [
    "extended_df = pd.merge(city_country_df, worldcities_df, on=[\"city\", \"country\"], how=\"inner\")"
   ]
  },
  {
   "cell_type": "code",
   "execution_count": null,
   "metadata": {
    "id": "qU9wapCdfO_X"
   },
   "outputs": [],
   "source": [
    "columns_to_remove = ['city_ascii', 'iso2', 'iso3', 'admin_name', 'capital', 'id', 'population', 'country']\n",
    "extracted_data_df = extended_df.drop(columns=columns_to_remove)"
   ]
  },
  {
   "cell_type": "code",
   "execution_count": null,
   "metadata": {
    "id": "jY8HlGfuY_5M"
   },
   "outputs": [],
   "source": [
    "extracted_data_df.head()"
   ]
  },
  {
   "cell_type": "code",
   "execution_count": null,
   "metadata": {
    "id": "HbtJewRMf2q6"
   },
   "outputs": [],
   "source": [
    "import shutil\n",
    "\n",
    "csv_file_path = \"extracted_data.csv\"\n",
    "shutil.copy(csv_file_path, \"/path/to/save/directory\") \n",
    "# change the save_directory variable to any directory on your hard drive"
   ]
  },
  {
   "cell_type": "markdown",
   "metadata": {
    "id": "ssQiQRuyd_Ia"
   },
   "source": [
    "## Data Cleaning"
   ]
  },
  {
   "cell_type": "code",
   "execution_count": null,
   "metadata": {
    "id": "dnME7If_fsIu"
   },
   "outputs": [],
   "source": [
    "columns_to_remove = ['city_ascii', 'iso2', 'iso3', 'admin_name', 'capital', 'id']\n",
    "cities_data_df = worldcities_df.drop(columns=columns_to_remove)"
   ]
  },
  {
   "cell_type": "code",
   "execution_count": null,
   "metadata": {
    "id": "WybPCP26RVEr"
   },
   "outputs": [],
   "source": [
    "cities_data_df.head()"
   ]
  },
  {
   "cell_type": "code",
   "execution_count": null,
   "metadata": {
    "id": "KH6Ygor5Rbq2"
   },
   "outputs": [],
   "source": [
    "column_mapping = {\n",
    "    'city': 'city_name',\n",
    "    'lat': 'latitude',\n",
    "    'lng': 'longitude'\n",
    "}\n",
    "\n",
    "cities_data_df.rename(columns=column_mapping, inplace=True)"
   ]
  },
  {
   "cell_type": "markdown",
   "metadata": {
    "id": "Q0n4DuMVIH-m"
   },
   "source": [
    "# Getting Historical Weather Data"
   ]
  },
  {
   "cell_type": "markdown",
   "metadata": {
    "id": "QBLFGUvT_S-Z"
   },
   "source": [
    "#### Single City Data Call"
   ]
  },
  {
   "cell_type": "code",
   "execution_count": null,
   "metadata": {
    "id": "XJeoHaUOIG1I"
   },
   "outputs": [],
   "source": [
    "def get_historical_weather_data(city_name, start_date, end_date):\n",
    "    latitude = city_data['latitude'].values[0]\n",
    "    longitude = city_data['longitude'].values[0]\n",
    "\n",
    "    url = \"https://archive-api.open-meteo.com/v1/archive\"\n",
    "    params = {\n",
    "        \"latitude\": latitude,\n",
    "        \"longitude\": longitude,\n",
    "        \"start_date\": start_date,\n",
    "        \"end_date\": end_date,\n",
    "        \"daily\": \"weathercode,temperature_2m_max,temperature_2m_min,temperature_2m_mean,precipitation_sum,rain_sum,snowfall_sum,windspeed_10m_max,shortwave_radiation_sum\",\n",
    "        \"timezone\": \"auto\"\n",
    "    }\n",
    "\n",
    "    response = requests.get(url, params=params)\n",
    "\n",
    "    historical_data = response.json()\n",
    "\n",
    "    historical_daily_data = historical_data['daily']\n",
    "\n",
    "    historical_daily_df = pd.DataFrame(historical_daily_data)\n",
    "\n",
    "    return historical_daily_df"
   ]
  },
  {
   "cell_type": "code",
   "execution_count": null,
   "metadata": {
    "id": "f3_izwQyJPP9"
   },
   "outputs": [],
   "source": [
    "print(\"Historical Weather Data\")\n",
    "city_name = input(\"Enter a city name: \").lower()\n",
    "\n",
    "worldcities_df['city_lower'] = worldcities_df['city'].str.lower()\n",
    "if city_name in worldcities_df['city_lower'].values:\n",
    "    city_data = worldcities_df[worldcities_df['city_lower'] == city_name]\n",
    "else:\n",
    "    print(f\"The city '{city_name}' was not found our database.\")\n",
    "\n",
    "start_date = input(\"Enter a start date [i.e.: 1900-01-01]: \")\n",
    "end_date = input(\"Enter an end date [i.e.: 1900-01-01]: \")\n",
    "\n",
    "historical_daily_df = get_historical_weather_data(city_name, start_date, end_date)"
   ]
  },
  {
   "cell_type": "markdown",
   "metadata": {
    "id": "vLDvfS9M_S-d"
   },
   "source": [
    "#### Multiple Cities Data Call"
   ]
  },
  {
   "cell_type": "code",
   "execution_count": null,
   "metadata": {
    "id": "HlbVl8LB_S-e"
   },
   "outputs": [],
   "source": [
    "def get_historical_weather_data(city_list, start_date, end_date):\n",
    "    historical_data_list = []\n",
    "\n",
    "    for city_name in city_list:\n",
    "        latitude = cities_data_df[cities_data_df['city_name'] == city_name]['latitude'].values[0]\n",
    "        longitude = cities_data_df[cities_data_df['city_name'] == city_name]['longitude'].values[0]\n",
    "\n",
    "        url = \"https://archive-api.open-meteo.com/v1/archive\"\n",
    "        params = {\n",
    "            \"latitude\": latitude,\n",
    "            \"longitude\": longitude,\n",
    "            #\"forecast\": 1,\n",
    "            \"daily\": \"weathercode,temperature_2m_max,temperature_2m_min,temperature_2m_mean,precipitation_sum,rain_sum,snowfall_sum,windspeed_10m_max,shortwave_radiation_sum\",\n",
    "            \"timezone\": \"Europe%2FBerlin\"\n",
    "        }\n",
    "\n",
    "        response = requests.get(url, params=params)\n",
    "        historical_data = response.json()\n",
    "\n",
    "        historical_daily_data = historical_data['daily']\n",
    "\n",
    "        historical_daily_df = pd.DataFrame(historical_daily_data)\n",
    "        historical_daily_df['city_name'] = city_name\n",
    "\n",
    "        historical_data_list.append(historical_daily_df)\n",
    "\n",
    "    combined_data = pd.concat(historical_data_list, ignore_index=True)\n",
    "    return combined_data"
   ]
  },
  {
   "cell_type": "code",
   "execution_count": null,
   "metadata": {
    "id": "iK-pBoRJ_S-g"
   },
   "outputs": [],
   "source": [
    "start_date = \"1940-01-01\"\n",
    "end_date = \"2022-12-31\"\n",
    "\n",
    "historical_data = get_historical_weather_data(city_list, start_date, end_date)"
   ]
  },
  {
   "cell_type": "markdown",
   "metadata": {
    "id": "4z5PVc2wPRTj"
   },
   "source": [
    "#### Data Cleaning"
   ]
  },
  {
   "cell_type": "code",
   "execution_count": null,
   "metadata": {
    "id": "jok48aGO_S-h"
   },
   "outputs": [],
   "source": [
    "historical_data.info()"
   ]
  },
  {
   "cell_type": "code",
   "execution_count": null,
   "metadata": {
    "id": "HoILvOZSNap7"
   },
   "outputs": [],
   "source": [
    "column_mapping_hist = {\n",
    "    'weathercode': 'weather_code',\n",
    "    'city': 'city_name',\n",
    "    'temperature_2m_max': 'temperature_max',\n",
    "    'temperature_2m_min': 'temperature_min',\n",
    "    'temperature_2m_mean': 'temperature_avg',\n",
    "    'precipitation_sum': 'percipitation',\n",
    "    'windspeed_10m_max': 'wind_speed',\n",
    "    'rain_sum': 'rain',\n",
    "    'snowfall_sum': 'snowfall',\n",
    "    'shortwave_radiation_sum': 'shortwave_radiation',\n",
    "    'time': 'date_time'\n",
    "}\n",
    "\n",
    "historical_data.rename(columns=column_mapping_hist, inplace=True)"
   ]
  },
  {
   "cell_type": "code",
   "execution_count": null,
   "metadata": {
    "id": "AbjpIbsbJaRy"
   },
   "outputs": [],
   "source": [
    "historical_daily_df = historical_data"
   ]
  },
  {
   "cell_type": "code",
   "execution_count": null,
   "metadata": {
    "id": "2kUCufm4PGKO"
   },
   "outputs": [],
   "source": [
    "historical_daily_df.info()"
   ]
  },
  {
   "cell_type": "code",
   "execution_count": null,
   "metadata": {
    "id": "pAHtI-IrJW94"
   },
   "outputs": [],
   "source": [
    "historical_daily_df[\"date_time\"] = pd.to_datetime(historical_daily_df[\"date_time\"])"
   ]
  },
  {
   "cell_type": "markdown",
   "metadata": {
    "id": "whIQrzfpIMzG"
   },
   "source": [
    "# Getting Current Weather Data"
   ]
  },
  {
   "cell_type": "markdown",
   "metadata": {
    "id": "40p-1CJ9GPzd"
   },
   "source": [
    "NOTE: The `Multiple Cities Call` part of this section is the AWS Lambda Function, being called on a daily basis at 1 a.m. to extract the current weather forecast data."
   ]
  },
  {
   "cell_type": "markdown",
   "metadata": {
    "id": "JZNsiz_BBJT_"
   },
   "source": [
    "#### Single City Data Call"
   ]
  },
  {
   "cell_type": "code",
   "execution_count": null,
   "metadata": {
    "id": "f8hWQaKxUjAB"
   },
   "outputs": [],
   "source": [
    "def get_current_weather_data(city_name, start_date, end_date):\n",
    "    latitude = city_data['lat'].values[0]\n",
    "    longitude = city_data['lng'].values[0]\n",
    "\n",
    "    url = \"https://api.open-meteo.com/v1/forecast\"\n",
    "    params = {\n",
    "        \"latitude\": latitude,\n",
    "        \"longitude\": longitude,\n",
    "        \"start_date\": start_date,\n",
    "        \"end_date\": end_date,\n",
    "        \"models\": \"best_match\",\n",
    "        \"daily\": \"weathercode,temperature_2m_max,temperature_2m_min,temperature_2m_mean,precipitation_sum,rain_sum,snowfall_sum,windspeed_10m_max,shortwave_radiation_sum\",\n",
    "        \"hourly\": \"temperature_2m,relativehumidity_2m,precipitation,rain,snowfall,weathercode,surface_pressure,cloudcover,visibility,evapotranspiration,windspeed_10m,winddirection_10m\",\n",
    "        \"timezone\": \"auto\"\n",
    "   }\n",
    "\n",
    "    response = requests.get(url, params=params)\n",
    "\n",
    "    current_data = response.json()\n",
    "\n",
    "    current_hourly_data = current_data['hourly']\n",
    "    current_daily_data = current_data['daily']\n",
    "\n",
    "    current_hourly_df = pd.DataFrame(current_hourly_data)\n",
    "    current_daily_df = pd.DataFrame(current_daily_data)\n",
    "\n",
    "    return current_hourly_df, current_daily_df"
   ]
  },
  {
   "cell_type": "code",
   "execution_count": null,
   "metadata": {
    "id": "EJH4SQOPWX1G"
   },
   "outputs": [],
   "source": [
    "print(\"Current Weather Forecast\")\n",
    "city_name = input(\"Enter a city name: \").lower()\n",
    "\n",
    "worldcities_df['city_lower'] = worldcities_df['city'].str.lower()\n",
    "if city_name in worldcities_df['city_lower'].values:\n",
    "    city_data = worldcities_df[worldcities_df['city_lower'] == city_name]\n",
    "else:\n",
    "    print(f\"The city '{city_name}' was not found our database.\")\n",
    "\n",
    "start_date = input(\"Enter a start date [i.e.: 1900-01-01]: \")\n",
    "end_date = input(\"Enter an end date [i.e.: 1900-01-01]: \")\n",
    "\n",
    "current_hourly_df, current_daily_df = get_current_weather_data(city_name, start_date, end_date)"
   ]
  },
  {
   "cell_type": "markdown",
   "metadata": {
    "id": "YqmsiXBqBLjh"
   },
   "source": [
    "#### Multiple Cities Data Call"
   ]
  },
  {
   "cell_type": "code",
   "execution_count": null,
   "metadata": {
    "id": "A-n2nusiBy4n"
   },
   "outputs": [],
   "source": [
    "def get_current_weather_data(city_list):\n",
    "    all_hourly_data = []\n",
    "    all_daily_data = []\n",
    "\n",
    "    for city_name in city_list:\n",
    "        latitude = cities_data_df[cities_data_df['city_name'] == city_name]['latitude'].values[0]\n",
    "        longitude = cities_data_df[cities_data_df['city_name'] == city_name]['longitude'].values[0]\n",
    "\n",
    "        url = \"https://api.open-meteo.com/v1/forecast\"\n",
    "        params = {\n",
    "            \"latitude\": latitude,\n",
    "            \"longitude\": longitude,\n",
    "            \"forecast_days\": 1,\n",
    "            \"models\": \"best_match\",\n",
    "            \"daily\": \"weathercode,temperature_2m_max,temperature_2m_min,temperature_2m_mean,precipitation_sum,rain_sum,snowfall_sum,windspeed_10m_max,shortwave_radiation_sum\",\n",
    "            \"hourly\": \"temperature_2m,relativehumidity_2m,precipitation,rain,snowfall,weathercode,surface_pressure,cloudcover,visibility,evapotranspiration,windspeed_10m,winddirection_10m\",\n",
    "            \"timezone\": \"Europe/Berlin\"\n",
    "        }\n",
    "\n",
    "        response = requests.get(url, params=params)\n",
    "        current_data = response.json()\n",
    "\n",
    "        current_hourly_data = current_data['hourly']\n",
    "        current_daily_data = current_data['daily']\n",
    "\n",
    "        current_hourly_df = pd.DataFrame(current_hourly_data)\n",
    "        current_daily_df = pd.DataFrame(current_daily_data)\n",
    "\n",
    "        current_hourly_df['city_name'] = city_name\n",
    "        current_daily_df['city_name'] = city_name\n",
    "\n",
    "        all_hourly_data.append(current_hourly_df)\n",
    "        all_daily_data.append(current_daily_df)\n",
    "\n",
    "    all_hourly_data = pd.concat(all_hourly_data, ignore_index=True)\n",
    "    all_daily_data = pd.concat(all_daily_data, ignore_index=True)\n",
    "\n",
    "    return all_hourly_data, all_daily_data"
   ]
  },
  {
   "cell_type": "code",
   "execution_count": null,
   "metadata": {
    "id": "S2U0b79yB_2D"
   },
   "outputs": [],
   "source": [
    "hourly_data, daily_data = get_current_weather_data(city_list)"
   ]
  },
  {
   "cell_type": "markdown",
   "metadata": {
    "id": "KlHvaKNjAiVQ"
   },
   "source": [
    "### Data Cleaning"
   ]
  },
  {
   "cell_type": "code",
   "execution_count": null,
   "metadata": {
    "id": "qijBmO5agqqS"
   },
   "outputs": [],
   "source": [
    "hourly_data.info()"
   ]
  },
  {
   "cell_type": "code",
   "execution_count": null,
   "metadata": {
    "id": "-jhIxTcFCEhs"
   },
   "outputs": [],
   "source": [
    "column_mapping_hrl = {\n",
    "    'city': 'city_name',\n",
    "    'time': 'date_time',\n",
    "    'weathercode': 'weather_code',\n",
    "    'temperature_2m': 'temperature',\n",
    "    'windspeed_10m': 'wind_speed',\n",
    "    'winddirection_10m': 'wind_direction',\n",
    "    'relativehumidity_2m': 'humidity'\n",
    "}\n",
    "\n",
    "hourly_data.rename(columns=column_mapping_hrl, inplace=True)\n",
    "current_hourly_df = hourly_data\n",
    "current_hourly_df[\"date_time\"] = pd.to_datetime(current_hourly_df[\"date_time\"])"
   ]
  },
  {
   "cell_type": "code",
   "execution_count": null,
   "metadata": {
    "id": "pcAuwKPRCG3R"
   },
   "outputs": [],
   "source": [
    "column_mapping_dl = {\n",
    "    'weathercode': 'weather_code',\n",
    "    'city': 'city_name',\n",
    "    'temperature_2m_max': 'temperature_max',\n",
    "    'temperature_2m_min': 'temperature_min',\n",
    "    'temperature_2m_mean': 'temperature_avg',\n",
    "    'precipitation_sum': 'percipitation',\n",
    "    'windspeed_10m_max': 'wind_speed',\n",
    "    'rain_sum': 'rain',\n",
    "    'snowfall_sum': 'snowfall',\n",
    "    'shortwave_radiation_sum': 'shortwave_radiation',\n",
    "    'time': 'date_time'\n",
    "}\n",
    "\n",
    "daily_data.rename(columns=column_mapping_dl, inplace=True)\n",
    "current_daily_df = daily_data\n",
    "current_daily_df[\"date_time\"] = pd.to_datetime(current_daily_df[\"date_time\"])"
   ]
  },
  {
   "cell_type": "markdown",
   "metadata": {
    "id": "LG40jFbbIQL6"
   },
   "source": [
    "# Getting Future Weather Data (`MPI Model`)"
   ]
  },
  {
   "cell_type": "markdown",
   "metadata": {
    "id": "2Lg4xukzF4ul"
   },
   "source": [
    "#### Singel City Data Call"
   ]
  },
  {
   "cell_type": "code",
   "execution_count": null,
   "metadata": {
    "id": "vAyemG_QRKfa"
   },
   "outputs": [],
   "source": [
    "def get_future_weather_data(city_name, start_date, end_date):\n",
    "    latitude = city_data['lat'].values[0]\n",
    "    longitude = city_data['lng'].values[0]\n",
    "\n",
    "    url = \"https://climate-api.open-meteo.com/v1/climate\"\n",
    "    params = {\n",
    "        \"latitude\": latitude,\n",
    "        \"longitude\": longitude,\n",
    "        \"start_date\": start_date,\n",
    "        \"end_date\": end_date,\n",
    "        \"models\": \"MPI_ESM1_2_XR\",\n",
    "        \"daily\": \"temperature_2m_mean,temperature_2m_max,temperature_2m_min,windspeed_10m_mean,shortwave_radiation_sum,precipitation_sum,rain_sum,snowfall_sum,et0_fao_evapotranspiration_sum\"\n",
    "    }\n",
    "\n",
    "    response = requests.get(url, params=params)\n",
    "\n",
    "    future_data = response.json()\n",
    "\n",
    "    future_daily_data = future_data['daily']\n",
    "\n",
    "    future_daily_df = pd.DataFrame(future_daily_data)\n",
    "\n",
    "    return future_daily_df"
   ]
  },
  {
   "cell_type": "code",
   "execution_count": null,
   "metadata": {
    "id": "GCVBK5Z2LXqC"
   },
   "outputs": [],
   "source": [
    "print(\"Future Weather Data\")\n",
    "city_name = input(\"Enter a city name: \").lower()\n",
    "\n",
    "worldcities_df['city_lower'] = worldcities_df['city'].str.lower()\n",
    "if city_name in worldcities_df['city_lower'].values:\n",
    "    city_data = worldcities_df[worldcities_df['city_lower'] == city_name]\n",
    "else:\n",
    "    print(f\"The city '{city_name}' was not found our database.\")\n",
    "\n",
    "start_date = input(\"Enter a start date [i.e.: 1900-01-01]: \")\n",
    "end_date = input(\"Enter an end date [i.e.: 1900-01-01]: \")\n",
    "\n",
    "future_daily_df = get_future_weather_data(city_name, start_date, end_date)"
   ]
  },
  {
   "cell_type": "markdown",
   "metadata": {
    "id": "X4sl27L6FZq-"
   },
   "source": [
    "#### Multiple Cities Data Call"
   ]
  },
  {
   "cell_type": "code",
   "execution_count": null,
   "metadata": {
    "id": "FA-CCHoIFfDc"
   },
   "outputs": [],
   "source": [
    "def get_future_weather_data(city_list, start_date, end_date, city_data):\n",
    "    all_future_data = []\n",
    "\n",
    "    for city_name in city_list:\n",
    "        latitude = cities_data_df[cities_data_df['city_name'] == city_name]['latitude'].values[0]\n",
    "        longitude = cities_data_df[cities_data_df['city_name'] == city_name]['longitude'].values[0]\n",
    "\n",
    "        url = \"https://climate-api.open-meteo.com/v1/climate\"\n",
    "        params = {\n",
    "            \"latitude\": latitude,\n",
    "            \"longitude\": longitude,\n",
    "            \"start_date\": start_date,\n",
    "            \"end_date\": end_date,\n",
    "            \"models\": \"MPI_ESM1_2_XR\",\n",
    "            \"daily\": \"temperature_2m_mean,temperature_2m_max,temperature_2m_min,windspeed_10m_mean,shortwave_radiation_sum,precipitation_sum,rain_sum,snowfall_sum,et0_fao_evapotranspiration_sum\"\n",
    "        }\n",
    "\n",
    "        response = requests.get(url, params=params)\n",
    "        future_data = response.json()\n",
    "\n",
    "        future_daily_data = future_data['daily']\n",
    "\n",
    "        future_daily_df = pd.DataFrame(future_daily_data)\n",
    "        future_daily_df['city_name'] = city_name\n",
    "\n",
    "        all_future_data.append(future_daily_df)\n",
    "\n",
    "    all_future_data = pd.concat(all_future_data, ignore_index=True)\n",
    "    return all_future_data"
   ]
  },
  {
   "cell_type": "code",
   "execution_count": null,
   "metadata": {
    "id": "dq1HSaWmFoan"
   },
   "outputs": [],
   "source": [
    "start_date = \"2024-01-01\"\n",
    "end_date = \"2050-12-31\"\n",
    "\n",
    "future_data = get_future_weather_data(city_list, start_date, end_date, worldcities_df)"
   ]
  },
  {
   "cell_type": "markdown",
   "metadata": {
    "id": "ILh6KTnnAr9e"
   },
   "source": [
    "### Data Cleaning"
   ]
  },
  {
   "cell_type": "code",
   "execution_count": null,
   "metadata": {
    "id": "gaQZ-u5JoIXn"
   },
   "outputs": [],
   "source": [
    "future_data.info()"
   ]
  },
  {
   "cell_type": "code",
   "execution_count": null,
   "metadata": {
    "id": "ELkpwklSFrpU"
   },
   "outputs": [],
   "source": [
    "column_mapping_fut = {\n",
    "    'city': 'city_name',\n",
    "    'temperature_2m_max': 'temperature_max',\n",
    "    'temperature_2m_min': 'temperature_min',\n",
    "    'temperature_2m_mean': 'temperature_avg',\n",
    "    'precipitation_sum': 'precipitation',\n",
    "    'windspeed_10m_mean': 'wind_speed',\n",
    "    'rain_sum': 'rain',\n",
    "    'snowfall_sum': 'snowfall',\n",
    "    'shortwave_radiation_sum': 'shortwave_radiation',\n",
    "    'et0_fao_evapotranspiration_sum': 'evapotranspiration',\n",
    "    'time': 'date_time'\n",
    "}\n",
    "\n",
    "future_data.rename(columns=column_mapping_fut, inplace=True)\n",
    "future_daily_df = future_data\n",
    "future_daily_df[\"date_time\"] = pd.to_datetime(future_daily_df[\"date_time\"])"
   ]
  },
  {
   "cell_type": "markdown",
   "metadata": {
    "id": "PSmSnHhgmN5l"
   },
   "source": [
    "# Checking Datatypes"
   ]
  },
  {
   "cell_type": "code",
   "execution_count": null,
   "metadata": {
    "id": "VzeZHkxaQFwQ"
   },
   "outputs": [],
   "source": [
    "cities_data_df.info()"
   ]
  },
  {
   "cell_type": "code",
   "execution_count": null,
   "metadata": {
    "id": "2xy_-n7tmX-e"
   },
   "outputs": [],
   "source": [
    "historical_daily_df.info()"
   ]
  },
  {
   "cell_type": "code",
   "execution_count": null,
   "metadata": {
    "id": "obbhOBqImdYD"
   },
   "outputs": [],
   "source": [
    "current_daily_df.info()"
   ]
  },
  {
   "cell_type": "code",
   "execution_count": null,
   "metadata": {
    "id": "AKFi97demh2R"
   },
   "outputs": [],
   "source": [
    "current_hourly_df.info()"
   ]
  },
  {
   "cell_type": "code",
   "execution_count": null,
   "metadata": {
    "id": "XduX-Iy7mNiP"
   },
   "outputs": [],
   "source": [
    "future_daily_df.info()"
   ]
  },
  {
   "cell_type": "markdown",
   "metadata": {
    "id": "0C4eXRV4_ewY"
   },
   "source": [
    "# Data Upload onto MySQL on AWS RDS"
   ]
  },
  {
   "cell_type": "markdown",
   "metadata": {
    "id": "gvVTytRUgWZK"
   },
   "source": [
    "## Uploading Cities Data"
   ]
  },
  {
   "cell_type": "code",
   "execution_count": null,
   "metadata": {
    "id": "3DvvgLqSgFiB"
   },
   "outputs": [],
   "source": [
    "cities_data_df.to_sql('cities_data',\n",
    "                        if_exists='append',\n",
    "                        con=con,\n",
    "                        index=False)"
   ]
  },
  {
   "cell_type": "markdown",
   "metadata": {
    "id": "LeAtkyedge_L"
   },
   "source": [
    "## Uploading Historical Weather Data"
   ]
  },
  {
   "cell_type": "code",
   "execution_count": null,
   "metadata": {
    "id": "J1A9woUBTwAs"
   },
   "outputs": [],
   "source": [
    "historical_daily_df.info()"
   ]
  },
  {
   "cell_type": "code",
   "execution_count": null,
   "metadata": {
    "id": "rf9RGFJ9gt6o"
   },
   "outputs": [],
   "source": [
    "historical_daily_df.to_sql('historical_weather',\n",
    "                        if_exists='append',\n",
    "                        con=con,\n",
    "                        index=False)"
   ]
  },
  {
   "cell_type": "markdown",
   "metadata": {
    "id": "kA65mB3GgmCZ"
   },
   "source": [
    "## Uploading Current Weather Data"
   ]
  },
  {
   "cell_type": "code",
   "execution_count": null,
   "metadata": {
    "id": "cyVbGgszg7LK"
   },
   "outputs": [],
   "source": [
    "current_daily_df.to_sql('current_weather_daily',\n",
    "                        if_exists='replace',\n",
    "                        con=con,\n",
    "                        index=False)"
   ]
  },
  {
   "cell_type": "code",
   "execution_count": null,
   "metadata": {
    "id": "wmC0892phVtN"
   },
   "outputs": [],
   "source": [
    "current_hourly_df.to_sql('current_weather_hourly',\n",
    "                        if_exists='replace',\n",
    "                        con=con,\n",
    "                        index=False)"
   ]
  },
  {
   "cell_type": "markdown",
   "metadata": {
    "id": "mQiuIeT0gnmr"
   },
   "source": [
    "## Uploading Future Weather Data"
   ]
  },
  {
   "cell_type": "code",
   "execution_count": null,
   "metadata": {
    "id": "tSr_7aSYOEVM"
   },
   "outputs": [],
   "source": [
    "future_daily_df['city_name'].nunique()"
   ]
  },
  {
   "cell_type": "code",
   "execution_count": null,
   "metadata": {
    "id": "piC1-ubajbJd"
   },
   "outputs": [],
   "source": [
    "future_daily_df.to_sql('future_weather_mpi',\n",
    "                        if_exists='replace',\n",
    "                        con=con,\n",
    "                        index=False)"
   ]
  },
  {
   "cell_type": "markdown",
   "metadata": {
    "id": "9h3pCNO26bMk"
   },
   "source": [
    "# Future Weather Prediction (`JAM Model`)"
   ]
  },
  {
   "cell_type": "markdown",
   "metadata": {
    "id": "_ouSZEZxC_CX"
   },
   "source": [
    "## Load predicted data"
   ]
  },
  {
   "cell_type": "code",
   "execution_count": null,
   "metadata": {
    "id": "KW5VNb9M3Bey"
   },
   "outputs": [],
   "source": [
    "url = \"https://github.com/MarcusK2010/End-to-end-ETL-ML-Tableau/blob/main/Database-Tables/future_weather_jam.csv\"\n",
    "future_weather_jam_df = pd.read_csv(url)"
   ]
  },
  {
   "cell_type": "markdown",
   "metadata": {
    "id": "II06uQGqDEqg"
   },
   "source": [
    "## Clean predicted data"
   ]
  },
  {
   "cell_type": "code",
   "execution_count": null,
   "metadata": {
    "id": "W8Q0uPvR6hxL"
   },
   "outputs": [],
   "source": [
    "column_mapping_jam = {\n",
    "    'City': 'city_name',\n",
    "    'Future_temperature': 'temperature',\n",
    "    'Future_precipitation': 'precipitation',\n",
    "    'Date_future': 'date_time'\n",
    "}\n",
    "\n",
    "future_weather_jam_df.rename(columns=column_mapping_jam, inplace=True)\n",
    "future_weather_jam_df[\"date_time\"] = pd.to_datetime(future_weather_jam_df[\"date_time\"])"
   ]
  },
  {
   "cell_type": "code",
   "execution_count": null,
   "metadata": {
    "id": "XI8OkV6u8nbi"
   },
   "outputs": [],
   "source": [
    "columns_to_remove = ['Date_reference', 'Ref_temperature', 'Ref_precipitation']\n",
    "future_weather_jam_df = future_weather_jam_df.drop(columns=columns_to_remove)"
   ]
  },
  {
   "cell_type": "code",
   "execution_count": null,
   "metadata": {
    "id": "4rraMaHpnq2G"
   },
   "outputs": [],
   "source": [
    "future_weather_jam_df.info()"
   ]
  },
  {
   "cell_type": "markdown",
   "metadata": {
    "id": "OEtizMnYrCjp"
   },
   "source": [
    "Shorten the DataFrame"
   ]
  },
  {
   "cell_type": "code",
   "execution_count": null,
   "metadata": {
    "id": "htDOLiAknblt"
   },
   "outputs": [],
   "source": [
    "future_weather_jam_df = future_weather_jam_df[future_weather_jam_df['date_time'] <= '2050-12-31']"
   ]
  },
  {
   "cell_type": "markdown",
   "metadata": {
    "id": "5UowlA4bDIiQ"
   },
   "source": [
    "## Load data into database"
   ]
  },
  {
   "cell_type": "code",
   "execution_count": null,
   "metadata": {
    "id": "EUSklqdR9H01"
   },
   "outputs": [],
   "source": [
    "future_weather_jam_df.to_sql('future_weather_jam',\n",
    "                        if_exists='replace',\n",
    "                        con=con,\n",
    "                        index=False)"
   ]
  }
 ],
 "metadata": {
  "colab": {
   "provenance": [],
   "toc_visible": true
  },
  "kernelspec": {
   "display_name": "Python 3 (ipykernel)",
   "language": "python",
   "name": "python3"
  },
  "language_info": {
   "codemirror_mode": {
    "name": "ipython",
    "version": 3
   },
   "file_extension": ".py",
   "mimetype": "text/x-python",
   "name": "python",
   "nbconvert_exporter": "python",
   "pygments_lexer": "ipython3",
   "version": "3.11.5"
  }
 },
 "nbformat": 4,
 "nbformat_minor": 4
}
